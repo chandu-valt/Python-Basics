{
 "cells": [
  {
   "cell_type": "code",
   "execution_count": 6,
   "id": "a0c72c99-c4f3-4e3f-99a3-5d9e54811954",
   "metadata": {},
   "outputs": [
    {
     "name": "stdin",
     "output_type": "stream",
     "text": [
      "what's you name? valt aoi\n",
      "what is your birth year? 2005\n",
      "what is the year that you want to check your age? 2089\n"
     ]
    },
    {
     "name": "stdout",
     "output_type": "stream",
     "text": [
      "heyy valt aoi! you'll be 84 at 2089.\n"
     ]
    }
   ],
   "source": [
    "#Ask for the user name\n",
    "name = input(\"what's you name?\") \n",
    "\n",
    "try:\n",
    "    #ask for the birth year and converts to integer\n",
    "    birth_year = int(input('what is your birth year?'))\n",
    "\n",
    "    #ask for future year and converts to integer\n",
    "    future_year = int(input(\"what is the year that you want to check your age?\"))\n",
    "    \n",
    "    #to check the future year valid or not\n",
    "    if future_year < birth_year:\n",
    "        print(\"Error!future year must be greater than birth year\")\n",
    "        \n",
    "    else:\n",
    "        #for calculating and display age\n",
    "        age = future_year - birth_year\n",
    "    \n",
    "        print(f\"heyy {name}! you'll be {age} at {future_year}.\")\n",
    "\n",
    "except ValueError:\n",
    "    #TO handle non integer inputs\n",
    "    print(\"please enter a valid number.\")"
   ]
  },
  {
   "cell_type": "code",
   "execution_count": null,
   "id": "f0a78b2a-165a-4588-bda5-18889762aeda",
   "metadata": {},
   "outputs": [],
   "source": []
  }
 ],
 "metadata": {
  "kernelspec": {
   "display_name": "Python 3 (ipykernel)",
   "language": "python",
   "name": "python3"
  },
  "language_info": {
   "codemirror_mode": {
    "name": "ipython",
    "version": 3
   },
   "file_extension": ".py",
   "mimetype": "text/x-python",
   "name": "python",
   "nbconvert_exporter": "python",
   "pygments_lexer": "ipython3",
   "version": "3.12.7"
  }
 },
 "nbformat": 4,
 "nbformat_minor": 5
}
